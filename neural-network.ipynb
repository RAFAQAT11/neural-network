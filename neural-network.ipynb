{
 "cells": [
  {
   "cell_type": "code",
   "execution_count": 1,
   "metadata": {},
   "outputs": [],
   "source": [
    "import numpy as np\n",
    "import matplotlib.pyplot as plt\n",
    "import pandas as pd"
   ]
  },
  {
   "cell_type": "code",
   "execution_count": 2,
   "metadata": {},
   "outputs": [],
   "source": [
    "\n",
    "class Network:\n",
    "    \n",
    "    def __init__(self,lr,size=[3,3,1]):\n",
    "        \n",
    "        self.size = size\n",
    "        self.lr = lr\n",
    "        \n",
    "        self.weights = [np.linspace(start=-1,stop=1,num=(row*col)).reshape((row,col)) for row,col in zip(size[:-1],size[1:])]\n",
    "        self.biases = [np.linspace(start=-1,stop=1,num=col).reshape((-1,col)) for col in size[1:]]\n",
    "    \n",
    "    def activation(self,i):\n",
    "        return 1.0/(1.0+np.exp(-i))\n",
    "    \n",
    "    def forward(self,a):\n",
    "        outs=[a]\n",
    "        for b, w in zip(self.biases, self.weights):\n",
    "            outs.append(self.activation(np.dot(outs[-1],w)+b))\n",
    "        return (outs[1:])\n",
    "\n",
    "    def targetError(self,out,tout):\n",
    "        return out*(1-out)*(tout-out)\n",
    "    \n",
    "    def inLayerError(self,out,terror,weight):\n",
    "        return terror * weight.T * (out * (1-out)).T\n",
    "\n",
    "    def uBiases(self,err):\n",
    "        ubias=[]\n",
    "        for b,e in zip(self.biases,err):\n",
    "            ubias.append(e*self.lr+b)\n",
    "        return ubias\n",
    "    \n",
    "    def backPropogate(self,outs,err):\n",
    "        uWeights=[]        \n",
    "        for i,(o,e,w) in enumerate(zip(outs,err,self.weights)):\n",
    "            uWeights.append(o*e*self.lr+w)\n",
    "        return uWeights\n",
    "\n",
    "    def start(self,trainset,testset,epoch):\n",
    "        while epoch > 0:\n",
    "            for f,t in zip(trainset,testset):\n",
    "                err=[]\n",
    "                err.clear()\n",
    "                outs = self.forward(f)\n",
    "                tErr = self.targetError(outs[-1],t)\n",
    "                err.append(self.inLayerError(outs[-2].transpose(),tErr,self.weights[-1]))\n",
    "                err.append(tErr)\n",
    "                self.weights = self.backPropogate(outs,err)\n",
    "                self.biases = self.uBiases(err)\n",
    "            epoch = epoch - 1\n",
    "            print(\"Epoch: {0}\".format(epoch),end=\"\\r\")\n"
   ]
  },
  {
   "cell_type": "code",
   "execution_count": 3,
   "metadata": {},
   "outputs": [],
   "source": [
    "df = pd.read_csv(\"./trainingSet.csv\")"
   ]
  },
  {
   "cell_type": "code",
   "execution_count": 4,
   "metadata": {},
   "outputs": [],
   "source": [
    "feature = df.iloc[:,:-1].to_numpy()/3000\n",
    "target = df.iloc[:,-1].to_numpy()/3000"
   ]
  },
  {
   "cell_type": "code",
   "execution_count": 5,
   "metadata": {},
   "outputs": [],
   "source": [
    "nn = Network(0.5,size=[3,6,1])"
   ]
  },
  {
   "cell_type": "code",
   "execution_count": 6,
   "metadata": {
    "scrolled": false
   },
   "outputs": [
    {
     "name": "stdout",
     "output_type": "stream",
     "text": [
      "Epoch: 00000\r"
     ]
    }
   ],
   "source": [
    "nn.start(feature,target,100000)"
   ]
  },
  {
   "cell_type": "code",
   "execution_count": 9,
   "metadata": {},
   "outputs": [],
   "source": [
    "Y = [nn.forward(row)[-1][0][0] for row in feature ]\n",
    "X = list(range(len(Y)))"
   ]
  },
  {
   "cell_type": "code",
   "execution_count": 11,
   "metadata": {},
   "outputs": [
    {
     "data": {
      "image/png": "[encoded data removed]",
      "text/plain": [
       "<Figure size 432x288 with 1 Axes>"
      ]
     },
     "metadata": {
      "needs_background": "light"
     },
     "output_type": "display_data"
    }
   ],
   "source": [
    "plt.plot(X,Y,color=\"red\")\n",
    "plt.plot(X,target,color=\"green\")\n",
    "plt.title(\"red line: prediction & green line: target\")\n",
    "plt.show()"
   ]
  },
  {
   "cell_type": "code",
   "execution_count": null,
   "metadata": {},
   "outputs": [],
   "source": []
  }
 ],
 "metadata": {
  "kernelspec": {
   "display_name": "Python 3",
   "language": "python",
   "name": "python3"
  },
  "language_info": {
   "codemirror_mode": {
    "name": "ipython",
    "version": 3
   },
   "file_extension": ".py",
   "mimetype": "text/x-python",
   "name": "python",
   "nbconvert_exporter": "python",
   "pygments_lexer": "ipython3",
   "version": "3.8.3"
  }
 },
 "nbformat": 4,
 "nbformat_minor": 4
}
